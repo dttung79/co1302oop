{
 "cells": [
  {
   "cell_type": "code",
   "execution_count": null,
   "id": "6823709c",
   "metadata": {},
   "outputs": [],
   "source": [
    "# checking error with if-else\n",
    "a = input('Enter a: ')\n",
    "if not a.isdigit():\n",
    "    print(\"Invalid input. Please enter a number.\")\n",
    "    exit()\n",
    "a = int(a)\n",
    "b = input('Enter b: ')\n",
    "if not b.isdigit():\n",
    "    print(\"Invalid input. Please enter a number.\")\n",
    "    exit()\n",
    "b = int(b)"
   ]
  },
  {
   "cell_type": "code",
   "execution_count": null,
   "id": "ba4e5fce",
   "metadata": {},
   "outputs": [
    {
     "name": "stdout",
     "output_type": "stream",
     "text": [
      "Invalid input. Please enter a number.\n"
     ]
    }
   ],
   "source": [
    "# checking error with try-except\n",
    "try:\n",
    "    a = int(input('Enter a: '))\n",
    "    b = int(input('Enter b: '))\n",
    "    print(a)\n",
    "    print(b)\n",
    "except ValueError:\n",
    "    print(\"Invalid input. Please enter a number.\")"
   ]
  },
  {
   "cell_type": "code",
   "execution_count": null,
   "id": "6647e2d3",
   "metadata": {},
   "outputs": [
    {
     "name": "stdout",
     "output_type": "stream",
     "text": [
      "Invalid input. Please enter a number.\n"
     ]
    }
   ],
   "source": [
    "# checking different exceptions\n",
    "try:\n",
    "    a = int(input('Enter a: '))\n",
    "    b = int(input('Enter b: '))\n",
    "    c = a / b\n",
    "    print(f'{a} / {b} = {c}')\n",
    "except ValueError:\n",
    "    print(\"Invalid input. Please enter a number.\")\n",
    "except ZeroDivisionError:\n",
    "    print(\"Division by zero is not allowed.\")"
   ]
  },
  {
   "cell_type": "code",
   "execution_count": null,
   "id": "87012a33",
   "metadata": {},
   "outputs": [
    {
     "name": "stdout",
     "output_type": "stream",
     "text": [
      "An error occurred: invalid literal for int() with base 10: 'hello'\n"
     ]
    }
   ],
   "source": [
    "# checking a general exception (not recommended)\n",
    "try:\n",
    "    a = int(input('Enter a: '))\n",
    "    b = int(input('Enter b: '))\n",
    "    c = a / b\n",
    "    print(f'{a} / {b} = {c}')\n",
    "except Exception as e:  # all kinds of exceptions\n",
    "    print(f\"An error occurred: {e}\")"
   ]
  },
  {
   "cell_type": "code",
   "execution_count": 17,
   "id": "36f48713",
   "metadata": {},
   "outputs": [],
   "source": [
    "class DemoClass:\n",
    "    def __init__(self, value):\n",
    "        self.value = value\n",
    "\n",
    "    @property\n",
    "    def value(self):\n",
    "        return self.__value\n",
    "    \n",
    "    @value.setter\n",
    "    def value(self, new_value):\n",
    "        # check if new_value is an integer and positive\n",
    "        if not isinstance(new_value, int) or new_value < 0:\n",
    "            raise ValueError(\"Value must be a positive integer.\")\n",
    "        self.__value = new_value"
   ]
  },
  {
   "cell_type": "code",
   "execution_count": null,
   "id": "9f9eaa3d",
   "metadata": {},
   "outputs": [],
   "source": [
    "ob = DemoClass(10)      # ok\n",
    "print(ob.value)\n",
    "\n",
    "ob = DemoClass(\"10\")    # raises ValueError because \"10\" is not an integer\n",
    "print(ob.value)"
   ]
  },
  {
   "cell_type": "code",
   "execution_count": null,
   "id": "1a2476d1",
   "metadata": {},
   "outputs": [],
   "source": [
    "ob = DemoClass(-10)     # raises ValueError because -10 is not positive"
   ]
  },
  {
   "cell_type": "code",
   "execution_count": 23,
   "id": "f0b6434e",
   "metadata": {},
   "outputs": [
    {
     "name": "stdout",
     "output_type": "stream",
     "text": [
      "10\n"
     ]
    }
   ],
   "source": [
    "try:\n",
    "    ob = DemoClass(10)  \n",
    "    print(ob.value)\n",
    "except ValueError as e:\n",
    "    print(f\"Error: {e}\")"
   ]
  },
  {
   "cell_type": "code",
   "execution_count": 24,
   "id": "97bef828",
   "metadata": {},
   "outputs": [],
   "source": [
    "# Implement a class Car with following attributes:\n",
    "# - brand (string, cannot be empty)\n",
    "# - model (string, cannot be empty)\n",
    "# - year (integer, must be positive)\n",
    "# - price (float, must be positive)\n",
    "\n",
    "# creating objects of Car class, using try-except to handle exceptions\n",
    "class Car:\n",
    "    def __init__(self, brand, model, year, price):\n",
    "        self.brand = brand\n",
    "        self.model = model\n",
    "        self.year = year\n",
    "        self.price = price\n",
    "\n",
    "    @property\n",
    "    def brand(self):\n",
    "        return self.__brand\n",
    "\n",
    "    @brand.setter\n",
    "    def brand(self, value):\n",
    "        if not isinstance(value, str) or value == \"\":\n",
    "            raise ValueError(\"Brand must be string and cannot be empty.\")\n",
    "        self.__brand = value\n",
    "\n",
    "    @property\n",
    "    def model(self):\n",
    "        return self.__model\n",
    "    \n",
    "    @model.setter\n",
    "    def model(self, value):\n",
    "        if not isinstance(value, str) or value == \"\":\n",
    "            raise ValueError(\"Model must be string and cannot be empty.\")\n",
    "        self.__model = value\n",
    "\n",
    "    @property\n",
    "    def year(self):\n",
    "        return self.__year\n",
    "    \n",
    "    @year.setter\n",
    "    def year(self, value):\n",
    "        if not isinstance(value, int) or value <= 0:\n",
    "            raise ValueError(\"Year must be a positive integer.\")\n",
    "        self.__year = value\n",
    "\n",
    "    @property\n",
    "    def price(self):\n",
    "        return self.__price\n",
    "    \n",
    "    @price.setter\n",
    "    def price(self, value):\n",
    "        if not isinstance(value, (int, float)) or value <= 0:\n",
    "            raise ValueError(\"Price must be a positive number.\")\n",
    "        self.__price = value"
   ]
  },
  {
   "cell_type": "code",
   "execution_count": null,
   "id": "bf38b2e7",
   "metadata": {},
   "outputs": [],
   "source": [
    "try:\n",
    "    car = Car(\"Toyota\", \"Camry\", 2020, 30000)\n",
    "    print(f\"Car created: {car.brand} {car.model}, Year: {car.year}, Price: {car.price}\")\n",
    "except ValueError as e:\n",
    "    print(f\"Error creating car: {e}\")"
   ]
  }
 ],
 "metadata": {
  "kernelspec": {
   "display_name": "Python 3",
   "language": "python",
   "name": "python3"
  },
  "language_info": {
   "codemirror_mode": {
    "name": "ipython",
    "version": 3
   },
   "file_extension": ".py",
   "mimetype": "text/x-python",
   "name": "python",
   "nbconvert_exporter": "python",
   "pygments_lexer": "ipython3",
   "version": "3.13.2"
  }
 },
 "nbformat": 4,
 "nbformat_minor": 5
}
