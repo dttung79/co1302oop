{
 "cells": [
  {
   "cell_type": "code",
   "execution_count": 1,
   "id": "46b4d4c4",
   "metadata": {},
   "outputs": [],
   "source": [
    "class Book:\n",
    "    def __init__(self, title, author, price):\n",
    "        self.__title = title\n",
    "        self.__author = author\n",
    "        self.__price = price\n",
    "    \n",
    "    @property\n",
    "    def title(self):\n",
    "        return self.__title\n",
    "    \n",
    "    @property\n",
    "    def author(self):\n",
    "        return self.__author\n",
    "    \n",
    "    @property \n",
    "    def price(self):\n",
    "        return self.__price\n",
    "\n",
    "    @title.setter\n",
    "    def title(self, new_title):\n",
    "        if new_title == '':\n",
    "            print('Invalid title!')\n",
    "            return\n",
    "        \n",
    "        self.__title = new_title\n",
    "    \n",
    "    @author.setter\n",
    "    def author(self, new_author):\n",
    "        if new_author == '':\n",
    "            print('Invalid author')\n",
    "            return\n",
    "\n",
    "        self.__author = new_author\n",
    "\n",
    "    @price.setter\n",
    "    def price(self, new_price):\n",
    "        if new_price <= 0:\n",
    "            print('Invalid price')\n",
    "            return\n",
    "        \n",
    "        self.__price = new_price\n",
    "\n",
    "    \n",
    "    def display(self):\n",
    "        print(f'Title: {self.__title}, author: {self.__author}, price: ${self.__price}')"
   ]
  },
  {
   "cell_type": "code",
   "execution_count": 2,
   "id": "79386822",
   "metadata": {},
   "outputs": [
    {
     "name": "stdout",
     "output_type": "stream",
     "text": [
      "Title: Python Programming, author: John Doe, price: $20\n"
     ]
    }
   ],
   "source": [
    "python_book = Book('Python Programming', 'John Doe', 20)\n",
    "python_book.display()"
   ]
  },
  {
   "cell_type": "code",
   "execution_count": 4,
   "id": "3fa0ef4d",
   "metadata": {},
   "outputs": [
    {
     "name": "stdout",
     "output_type": "stream",
     "text": [
      "Python Programming\n",
      "Title: Python Programming, author: John Doe, price: $30\n"
     ]
    }
   ],
   "source": [
    "print(python_book.title)    # call property title getter\n",
    "python_book.price = 30      # call property price setter\n",
    "python_book.display()"
   ]
  },
  {
   "cell_type": "code",
   "execution_count": 5,
   "id": "9524461f",
   "metadata": {},
   "outputs": [
    {
     "name": "stdout",
     "output_type": "stream",
     "text": [
      "Invalid author\n",
      "Title: Python Programming, author: John Doe, price: $30\n"
     ]
    }
   ],
   "source": [
    "python_book.author = ''\n",
    "python_book.display()"
   ]
  }
 ],
 "metadata": {
  "kernelspec": {
   "display_name": "Python 3",
   "language": "python",
   "name": "python3"
  },
  "language_info": {
   "codemirror_mode": {
    "name": "ipython",
    "version": 3
   },
   "file_extension": ".py",
   "mimetype": "text/x-python",
   "name": "python",
   "nbconvert_exporter": "python",
   "pygments_lexer": "ipython3",
   "version": "3.13.2"
  }
 },
 "nbformat": 4,
 "nbformat_minor": 5
}
