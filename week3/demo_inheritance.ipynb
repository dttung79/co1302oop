{
 "cells": [
  {
   "cell_type": "code",
   "execution_count": 2,
   "id": "149169a1",
   "metadata": {},
   "outputs": [],
   "source": [
    "class Parent:\n",
    "    def __init__(self, name='John'):\n",
    "        self.name = name\n",
    "    \n",
    "    def hi(self):\n",
    "        print(f'Hi, I am {self.name}')"
   ]
  },
  {
   "cell_type": "code",
   "execution_count": 3,
   "id": "e75f52c1",
   "metadata": {},
   "outputs": [
    {
     "name": "stdout",
     "output_type": "stream",
     "text": [
      "Hi, I am John\n",
      "Hi, I am Paul\n"
     ]
    }
   ],
   "source": [
    "p = Parent() # use default name 'John'\n",
    "p.hi()\n",
    "\n",
    "p = Parent('Paul')\n",
    "p.hi()"
   ]
  },
  {
   "cell_type": "code",
   "execution_count": null,
   "id": "3570dc99",
   "metadata": {},
   "outputs": [],
   "source": [
    "# 1st version: class Child inherit from class Parent without implement anything\n",
    "class Child(Parent):\n",
    "    pass"
   ]
  },
  {
   "cell_type": "code",
   "execution_count": null,
   "id": "fa8bc6bc",
   "metadata": {},
   "outputs": [
    {
     "name": "stdout",
     "output_type": "stream",
     "text": [
      "Hi, I am John\n"
     ]
    }
   ],
   "source": [
    "c = Child() # it will call the __init__ method from Parent\n",
    "c.hi()      # it will call the hi method from Parent"
   ]
  },
  {
   "cell_type": "code",
   "execution_count": 6,
   "id": "cdec9ba2",
   "metadata": {},
   "outputs": [],
   "source": [
    "# 2nd version: class Child inherit from class Parent, adding 1 attribute\n",
    "class Child(Parent):\n",
    "    def __init__(self, name, age):\n",
    "        super().__init__(name)  # call __init__ of Parent\n",
    "        self.age = age"
   ]
  },
  {
   "cell_type": "code",
   "execution_count": 7,
   "id": "e30b3632",
   "metadata": {},
   "outputs": [
    {
     "name": "stdout",
     "output_type": "stream",
     "text": [
      "Hi, I am Paul\n",
      "10\n"
     ]
    }
   ],
   "source": [
    "c = Child('Paul', 10)\n",
    "c.hi()\n",
    "print(c.age)"
   ]
  },
  {
   "cell_type": "code",
   "execution_count": 10,
   "id": "c191e4cc",
   "metadata": {},
   "outputs": [
    {
     "name": "stdout",
     "output_type": "stream",
     "text": [
      "Hi, I am Paul\n",
      "I am 20 years old.\n"
     ]
    }
   ],
   "source": [
    "# 3rd version: class Child inherit from class Parent, adding 1 attribute, override hi method of Parent\n",
    "class Child(Parent):\n",
    "    def __init__(self, name, age):\n",
    "        super().__init__(name)  # call __init__ of Parent\n",
    "        self.age = age\n",
    "    \n",
    "    # override hi method\n",
    "    def hi(self):\n",
    "        super().hi()    # call hi method of Parent\n",
    "        print(f'I am {self.age} years old.')\n",
    "\n",
    "c = Child('Paul', 20)\n",
    "c.hi()"
   ]
  },
  {
   "cell_type": "code",
   "execution_count": 11,
   "id": "4e090565",
   "metadata": {},
   "outputs": [
    {
     "name": "stdout",
     "output_type": "stream",
     "text": [
      "Hi, I am Paul\n",
      "I am 20 years old.\n",
      "I am going to school\n"
     ]
    }
   ],
   "source": [
    "# 4th version: class Child inherit from class Parent, adding 1 attribute, override hi method of Parent, adding another method\n",
    "class Child(Parent):\n",
    "    def __init__(self, name, age):\n",
    "        super().__init__(name)  # call __init__ of Parent\n",
    "        self.age = age\n",
    "    \n",
    "    # override hi method\n",
    "    def hi(self):\n",
    "        super().hi()    # call hi method of Parent\n",
    "        print(f'I am {self.age} years old.')\n",
    "    \n",
    "    def go_school(self):\n",
    "        print('I am going to school')\n",
    "\n",
    "c = Child('Paul', 20)\n",
    "c.hi()\n",
    "c.go_school()"
   ]
  }
 ],
 "metadata": {
  "kernelspec": {
   "display_name": "Python 3",
   "language": "python",
   "name": "python3"
  },
  "language_info": {
   "codemirror_mode": {
    "name": "ipython",
    "version": 3
   },
   "file_extension": ".py",
   "mimetype": "text/x-python",
   "name": "python",
   "nbconvert_exporter": "python",
   "pygments_lexer": "ipython3",
   "version": "3.13.2"
  }
 },
 "nbformat": 4,
 "nbformat_minor": 5
}
