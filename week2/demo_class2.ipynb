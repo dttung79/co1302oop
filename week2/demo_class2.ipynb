{
 "cells": [
  {
   "cell_type": "code",
   "execution_count": null,
   "id": "5d282290",
   "metadata": {},
   "outputs": [],
   "source": [
    "# 1st version of Book, all attributes are public\n",
    "class Book:\n",
    "    def __init__(self, title, author, price):\n",
    "        self.title = title\n",
    "        self.author = author\n",
    "        self.price = price\n",
    "    \n",
    "    def display(self):\n",
    "        print(f'Title: {self.title}, author: {self.author}, price: ${self.price}')"
   ]
  },
  {
   "cell_type": "code",
   "execution_count": null,
   "id": "d253e169",
   "metadata": {},
   "outputs": [
    {
     "name": "stdout",
     "output_type": "stream",
     "text": [
      "Python Programming\n",
      "Title: Python Programming, author: Mike Tyson, price: $200\n"
     ]
    }
   ],
   "source": [
    "python_book = Book('Python Programming', 'John Doe', 200)\n",
    "# access book attributes outside because they are public\n",
    "print(python_book.title)           \n",
    "python_book.author = 'Mike Tyson'\n",
    "\n",
    "python_book.display()"
   ]
  },
  {
   "cell_type": "code",
   "execution_count": null,
   "id": "c11b7c36",
   "metadata": {},
   "outputs": [
    {
     "name": "stdout",
     "output_type": "stream",
     "text": [
      "Title: Python Programming, author: Mike Tyson, price: $-1000\n"
     ]
    }
   ],
   "source": [
    "python_book.price = -1000   # outside can change attribute to anything\n",
    "python_book.display()"
   ]
  },
  {
   "cell_type": "code",
   "execution_count": 5,
   "id": "078b888b",
   "metadata": {},
   "outputs": [],
   "source": [
    "# 2nd version of Book, all attributes are private\n",
    "class Book:\n",
    "    def __init__(self, title, author, price):\n",
    "        self.__title = title        # private\n",
    "        self.__author = author\n",
    "        self.__price = price\n",
    "    \n",
    "    def display(self):\n",
    "        print(f'Title: {self.__title}, author: {self.__author}, price: ${self.__price}')"
   ]
  },
  {
   "cell_type": "code",
   "execution_count": 6,
   "id": "ac92b2b1",
   "metadata": {},
   "outputs": [
    {
     "name": "stdout",
     "output_type": "stream",
     "text": [
      "Title: Python Programming, author: John Doe, price: $200\n"
     ]
    }
   ],
   "source": [
    "python_book = Book('Python Programming', 'John Doe', 200)\n",
    "python_book.display()"
   ]
  },
  {
   "cell_type": "code",
   "execution_count": 7,
   "id": "a3376754",
   "metadata": {},
   "outputs": [
    {
     "ename": "AttributeError",
     "evalue": "'Book' object has no attribute '__title'",
     "output_type": "error",
     "traceback": [
      "\u001b[0;31m---------------------------------------------------------------------------\u001b[0m",
      "\u001b[0;31mAttributeError\u001b[0m                            Traceback (most recent call last)",
      "Cell \u001b[0;32mIn[7], line 1\u001b[0m\n\u001b[0;32m----> 1\u001b[0m \u001b[38;5;28mprint\u001b[39m(\u001b[43mpython_book\u001b[49m\u001b[38;5;241;43m.\u001b[39;49m\u001b[43m__title\u001b[49m)\n",
      "\u001b[0;31mAttributeError\u001b[0m: 'Book' object has no attribute '__title'"
     ]
    }
   ],
   "source": [
    "print(python_book.__title)"
   ]
  },
  {
   "cell_type": "code",
   "execution_count": 8,
   "id": "52e7db5b",
   "metadata": {},
   "outputs": [
    {
     "name": "stdout",
     "output_type": "stream",
     "text": [
      "Title: Python Programming, author: John Doe, price: $200\n"
     ]
    }
   ],
   "source": [
    "python_book.price = -1000\n",
    "python_book.display()"
   ]
  },
  {
   "cell_type": "code",
   "execution_count": 16,
   "id": "5bb77699",
   "metadata": {},
   "outputs": [],
   "source": [
    "# 3rd version of Book, all attributes are private, get/set methods for title are provided for access\n",
    "class Book:\n",
    "    def __init__(self, title, author, price):\n",
    "        self.__title = title        # private\n",
    "        self.__author = author\n",
    "        self.__price = price\n",
    "    \n",
    "    def get_title(self):\n",
    "        return self.__title\n",
    "    \n",
    "    def set_title(self, new_title):\n",
    "        if new_title == '':\n",
    "            print('Invalid title!')\n",
    "            return\n",
    "        self.__title = new_title\n",
    "    \n",
    "    def get_author(self):\n",
    "        return self.__author\n",
    "    \n",
    "    def set_author(self, new_author):\n",
    "        if new_author == '':\n",
    "            print('Invalid author!')\n",
    "            return\n",
    "        self.__author = new_author\n",
    "\n",
    "    def get_price(self):\n",
    "        return self.__price\n",
    "    \n",
    "    def set_price(self, new_price):\n",
    "        if new_price <= 0:\n",
    "            print('Invalid price!')\n",
    "            return\n",
    "        self.__price = new_price\n",
    "        \n",
    "    def display(self):\n",
    "        print(f'Title: {self.__title}, author: {self.__author}, price: ${self.__price}')"
   ]
  },
  {
   "cell_type": "code",
   "execution_count": 20,
   "id": "ce3444f1",
   "metadata": {},
   "outputs": [
    {
     "name": "stdout",
     "output_type": "stream",
     "text": [
      "Title: Python Programming, author: John Doe, price: $200\n",
      "Python Programming\n",
      "Title: Advanced Python Programming, author: John Doe, price: $200\n",
      "Invalid title!\n",
      "Title: Advanced Python Programming, author: John Doe, price: $200\n",
      "Invalid author!\n",
      "Title: Advanced Python Programming, author: John Doe, price: $200\n",
      "Title: Advanced Python Programming, author: Jane Doe, price: $200\n",
      "Invalid price!\n",
      "Title: Advanced Python Programming, author: Jane Doe, price: $200\n",
      "Title: Advanced Python Programming, author: Jane Doe, price: $500\n"
     ]
    }
   ],
   "source": [
    "python_book = Book('Python Programming', 'John Doe', 200)\n",
    "python_book.display()\n",
    "\n",
    "print(python_book.get_title())\n",
    "python_book.set_title('Advanced Python Programming')\n",
    "python_book.display()\n",
    "python_book.set_title('')\n",
    "python_book.display()\n",
    "\n",
    "python_book.set_author('')\n",
    "python_book.display()\n",
    "python_book.set_author('Jane Doe')\n",
    "python_book.display()\n",
    "\n",
    "python_book.set_price(0)\n",
    "python_book.display()\n",
    "python_book.set_price(500)\n",
    "python_book.display()"
   ]
  },
  {
   "cell_type": "code",
   "execution_count": 26,
   "id": "5e6d74d0",
   "metadata": {},
   "outputs": [],
   "source": [
    "class Fan:\n",
    "    def __init__(self):\n",
    "        self.__speed = 0\n",
    "        self.__swing = False\n",
    "        self.__status = \"Off\"\n",
    "    \n",
    "    def get_speed(self):\n",
    "        return self.__speed\n",
    "    \n",
    "    def increase_speed(self):\n",
    "        if self.__speed == 5:\n",
    "            print('Max speed already.')\n",
    "            return\n",
    "        self.__speed += 1\n",
    "    \n",
    "    def decrease_speed(self):\n",
    "        if self.__speed == 1:\n",
    "            print('Min speed already.')\n",
    "            return\n",
    "        self.__speed -= 1\n",
    "\n",
    "    def get_swing(self):\n",
    "        return \"Rotate\" if self.__swing else \"Still\"\n",
    "    \n",
    "    def set_swing(self, new_swing):\n",
    "        self.__swing = new_swing\n",
    "\n",
    "    def get_status(self):\n",
    "        return self.__status\n",
    "    \n",
    "    def turn_on(self):\n",
    "        self.__status = \"On\"\n",
    "        self.__speed = 1\n",
    "    \n",
    "    def turn_off(self):\n",
    "        self.__status = \"Off\"\n",
    "        self.__speed = 0\n",
    "    \n",
    "    def display(self):\n",
    "        print(f'Fan status: {self.__status}, {self.get_swing()}, speed: {self.__speed}')"
   ]
  },
  {
   "cell_type": "code",
   "execution_count": 22,
   "id": "4d79027a",
   "metadata": {},
   "outputs": [],
   "source": [
    "class FanRemoteControl:\n",
    "    def __init__(self, fan):\n",
    "        self.__fan = fan\n",
    "    \n",
    "    def turn_on(self):\n",
    "        self.__fan.turn_on()\n",
    "\n",
    "    def turn_off(self):\n",
    "        self.__fan.turn_off()\n",
    "    \n",
    "    def increase(self):\n",
    "        self.__fan.increase_speed()\n",
    "    \n",
    "    def decrease(self):\n",
    "        self.__fan.decrease_speed()\n",
    "\n",
    "    def switch_swing(self):\n",
    "        if self.__fan.get_swing() == 'Rotate':\n",
    "            self.__fan.set_swing(False)\n",
    "        else:\n",
    "            self.__fan.set_swing(True)"
   ]
  },
  {
   "cell_type": "code",
   "execution_count": 31,
   "id": "199b92c4",
   "metadata": {},
   "outputs": [
    {
     "name": "stdout",
     "output_type": "stream",
     "text": [
      "Fan status: Off, Still, speed: 0\n",
      "Fan status: On, Still, speed: 1\n"
     ]
    }
   ],
   "source": [
    "fan = Fan()\n",
    "fan.display()\n",
    "rc = FanRemoteControl(fan)\n",
    "\n",
    "rc.turn_on()\n",
    "fan.display()"
   ]
  },
  {
   "cell_type": "code",
   "execution_count": 32,
   "id": "c424bb46",
   "metadata": {},
   "outputs": [
    {
     "name": "stdout",
     "output_type": "stream",
     "text": [
      "Fan status: On, Rotate, speed: 1\n",
      "Fan status: On, Still, speed: 1\n"
     ]
    }
   ],
   "source": [
    "rc.switch_swing()\n",
    "fan.display()\n",
    "rc.switch_swing()\n",
    "fan.display()"
   ]
  },
  {
   "cell_type": "code",
   "execution_count": 33,
   "id": "a7e14aa3",
   "metadata": {},
   "outputs": [
    {
     "name": "stdout",
     "output_type": "stream",
     "text": [
      "Fan status: On, Still, speed: 2\n",
      "Fan status: On, Still, speed: 3\n",
      "Fan status: On, Still, speed: 4\n",
      "Fan status: On, Still, speed: 5\n",
      "Max speed already.\n",
      "Fan status: On, Still, speed: 5\n",
      "Max speed already.\n",
      "Fan status: On, Still, speed: 5\n"
     ]
    }
   ],
   "source": [
    "rc.increase()\n",
    "fan.display()\n",
    "rc.increase()\n",
    "fan.display()\n",
    "rc.increase()\n",
    "fan.display()\n",
    "rc.increase()\n",
    "fan.display()\n",
    "rc.increase()\n",
    "fan.display()\n",
    "rc.increase()\n",
    "fan.display()"
   ]
  }
 ],
 "metadata": {
  "kernelspec": {
   "display_name": "Python 3",
   "language": "python",
   "name": "python3"
  },
  "language_info": {
   "codemirror_mode": {
    "name": "ipython",
    "version": 3
   },
   "file_extension": ".py",
   "mimetype": "text/x-python",
   "name": "python",
   "nbconvert_exporter": "python",
   "pygments_lexer": "ipython3",
   "version": "3.13.2"
  }
 },
 "nbformat": 4,
 "nbformat_minor": 5
}
