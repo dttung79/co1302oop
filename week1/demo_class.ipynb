{
 "cells": [
  {
   "cell_type": "code",
   "execution_count": null,
   "id": "1786903d",
   "metadata": {},
   "outputs": [],
   "source": [
    "# A class is an abstraction of similar objects in OOP\n",
    "# A class contains: name, constructor, attributes and methods\n",
    "# Method: is a function but belongs to a class, describe a behavior of object of this class\n",
    "# Constructor: a special method that is used to \"construct\" an object\n",
    "# Attribute: is a variable that describes an aspect of object of this class"
   ]
  },
  {
   "cell_type": "code",
   "execution_count": 3,
   "id": "c97b3b73",
   "metadata": {},
   "outputs": [
    {
     "name": "stdout",
     "output_type": "stream",
     "text": [
      "1\n",
      "John Doe\n",
      "ID: 1, Name: John Doe\n"
     ]
    }
   ],
   "source": [
    "# define a class Student\n",
    "class Student:\n",
    "    # constructor\n",
    "    def __init__(self, id, name):\n",
    "        self.id = id\n",
    "        self.name = name\n",
    "    \n",
    "    # method\n",
    "    def hi(self):\n",
    "        print(f'ID: {self.id}, Name: {self.name}')\n",
    "\n",
    "# create an object of class Student by calling the constructor\n",
    "s = Student(1, 'John Doe') # pass 1 and 'John Doe' to constructor\n",
    "# now s has id as 1 and name as 'John Doe'\n",
    "print(s.id) # 1\n",
    "print(s.name) # John Doe\n",
    "# call the method hi from s\n",
    "s.hi()"
   ]
  },
  {
   "cell_type": "code",
   "execution_count": 2,
   "id": "e10285ee",
   "metadata": {},
   "outputs": [
    {
     "name": "stdout",
     "output_type": "stream",
     "text": [
      "2\n",
      "Mike\n",
      "ID: 2, Name: Mike\n"
     ]
    }
   ],
   "source": [
    "t = Student(2, 'Mike')\n",
    "print(t.id) # 2\n",
    "print(t.name) # Mike\n",
    "t.hi() # ID: 2, Name: Mike"
   ]
  },
  {
   "cell_type": "code",
   "execution_count": 4,
   "id": "bd8c3920",
   "metadata": {},
   "outputs": [],
   "source": [
    "class Book:\n",
    "    def __init__(self, title, author, price):\n",
    "        self.title = title\n",
    "        self.author = author\n",
    "        self.price = price\n",
    "    \n",
    "    def display(self):\n",
    "        print(f'Title: {self.title}, author: {self.author}, price: ${self.price}')"
   ]
  },
  {
   "cell_type": "code",
   "execution_count": null,
   "id": "e14bc84d",
   "metadata": {},
   "outputs": [],
   "source": [
    "class BookWorm:\n",
    "    def __init__(self, name):\n",
    "        self.name = name\n",
    "        self.books = [] # init an empty list of books\n",
    "\n",
    "    def add(self, book):\n",
    "        self.books.append(book) # add a book to the list books\n",
    "\n",
    "    def show(self):\n",
    "        print(f'My name is {self.name}. I have read following books:')\n",
    "        for b in self.books:    # tell each book in the list\n",
    "            b.display()         # to display"
   ]
  },
  {
   "cell_type": "code",
   "execution_count": 5,
   "id": "076e64a5",
   "metadata": {},
   "outputs": [
    {
     "name": "stdout",
     "output_type": "stream",
     "text": [
      "Title: Harry Potter, author: J.K. Rowling, price: $20\n",
      "Title: Python Programming, author: Mike Thompson, price: $15\n"
     ]
    }
   ],
   "source": [
    "harry_potter = Book('Harry Potter', 'J.K. Rowling', 20)\n",
    "python_prog = Book('Python Programming', 'Mike Thompson', 15)\n",
    "\n",
    "harry_potter.display()\n",
    "python_prog.display()"
   ]
  },
  {
   "cell_type": "code",
   "execution_count": 14,
   "id": "2c164d3a",
   "metadata": {},
   "outputs": [
    {
     "name": "stdout",
     "output_type": "stream",
     "text": [
      "My name is John. I have read following books:\n",
      "Title: Harry Potter, author: J.K. Rowling, price: $20\n",
      "Title: Python Programming, author: Mike Thompson, price: $15\n"
     ]
    }
   ],
   "source": [
    "john = BookWorm('John')\n",
    "john.add(harry_potter)\n",
    "john.add(python_prog)\n",
    "john.show()"
   ]
  },
  {
   "cell_type": "code",
   "execution_count": 6,
   "id": "3df69a96",
   "metadata": {},
   "outputs": [],
   "source": [
    "class Pet:\n",
    "    def __init__(self, name, kind):\n",
    "        self.name = name\n",
    "        self.kind = kind\n",
    "    \n",
    "    def show(self):\n",
    "        print(f'A {self.kind} name {self.name}')"
   ]
  },
  {
   "cell_type": "code",
   "execution_count": 11,
   "id": "3d1a5f3a",
   "metadata": {},
   "outputs": [],
   "source": [
    "class Owner:\n",
    "    def __init__(self, name, pet):\n",
    "        self.name = name\n",
    "        self.pet = pet\n",
    "\n",
    "    def show(self):\n",
    "        print(f'My name is {self.name}. I have a pet:', end=' ')\n",
    "        self.pet.show()"
   ]
  },
  {
   "cell_type": "code",
   "execution_count": 12,
   "id": "d986f436",
   "metadata": {},
   "outputs": [
    {
     "name": "stdout",
     "output_type": "stream",
     "text": [
      "My name is John. I have a pet: A Dog name Jack\n"
     ]
    }
   ],
   "source": [
    "dog = Pet('Jack', 'Dog')        # create a Pet object\n",
    "john = Owner('John', dog)       # create an Owner object\n",
    "john.show()                     # when john show, it will tell its dog to show"
   ]
  },
  {
   "cell_type": "code",
   "execution_count": 20,
   "id": "2d1db65e",
   "metadata": {},
   "outputs": [],
   "source": [
    "class File:\n",
    "    def __init__(self, name, size):\n",
    "        self.name = name\n",
    "        self.size = size\n",
    "    \n",
    "    def display(self):\n",
    "        print(f'- {self.name}: {self.size} Kb')"
   ]
  },
  {
   "cell_type": "code",
   "execution_count": 28,
   "id": "b7eb89c6",
   "metadata": {},
   "outputs": [],
   "source": [
    "class Directory:\n",
    "    def __init__(self, name):\n",
    "        self.name = name\n",
    "        self.files = []\n",
    "\n",
    "    def add(self, f):\n",
    "        self.files.append(f)\n",
    "    \n",
    "    def get_size(self):\n",
    "        total_size = 0\n",
    "        for f in self.files:\n",
    "            total_size += f.size\n",
    "        \n",
    "        return total_size\n",
    "\n",
    "    def display(self):\n",
    "        print(f'+ {self.name}:')\n",
    "        for f in self.files:\n",
    "            print('  ', end=' ')\n",
    "            f.display()\n",
    "        print(f'Total size: {self.get_size()} Kb')"
   ]
  },
  {
   "cell_type": "code",
   "execution_count": 29,
   "id": "dce1101f",
   "metadata": {},
   "outputs": [
    {
     "name": "stdout",
     "output_type": "stream",
     "text": [
      "+ home:\n",
      "   - hoso.pdf: 200 Kb\n",
      "   - virus.exe: 10 Kb\n",
      "Total size: 210 Kb\n"
     ]
    }
   ],
   "source": [
    "f1 = File('hoso.pdf', 200)\n",
    "f2 = File('virus.exe', 10)\n",
    "home_dir = Directory('home')\n",
    "home_dir.add(f1)\n",
    "home_dir.add(f2)\n",
    "\n",
    "home_dir.display()"
   ]
  }
 ],
 "metadata": {
  "kernelspec": {
   "display_name": "Python 3",
   "language": "python",
   "name": "python3"
  },
  "language_info": {
   "codemirror_mode": {
    "name": "ipython",
    "version": 3
   },
   "file_extension": ".py",
   "mimetype": "text/x-python",
   "name": "python",
   "nbconvert_exporter": "python",
   "pygments_lexer": "ipython3",
   "version": "3.13.2"
  }
 },
 "nbformat": 4,
 "nbformat_minor": 5
}
