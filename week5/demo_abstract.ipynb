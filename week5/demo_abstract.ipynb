{
 "cells": [
  {
   "cell_type": "code",
   "execution_count": 1,
   "id": "73ad8f9c",
   "metadata": {},
   "outputs": [],
   "source": [
    "# import module abc for abstract base classes\n",
    "from abc import ABC, abstractmethod\n",
    "\n",
    "# Inherit from ABC to create an abstract base class\n",
    "class Parent(ABC):\n",
    "    # Use annotations to define an abstract method\n",
    "    @abstractmethod\n",
    "    def some_method(self):\n",
    "        pass\n",
    "\n",
    "    # normal method with implementation\n",
    "    def another_method(self):\n",
    "        print(\"This is a normal method with implementation.\")\n",
    "\n",
    "class Child(Parent):\n",
    "    def some_method(self):\n",
    "        print(\"Implementation of the abstract method.\")\n"
   ]
  },
  {
   "cell_type": "code",
   "execution_count": null,
   "id": "0958101d",
   "metadata": {},
   "outputs": [],
   "source": [
    "c = Child()\n",
    "c.some_method()  # some_method is now implemented in Child.\n",
    "c.another_method()  # Calls the normal method of Parent."
   ]
  },
  {
   "cell_type": "code",
   "execution_count": null,
   "id": "56084e40",
   "metadata": {},
   "outputs": [],
   "source": [
    "p = Parent()  # This will raise an error since Parent is abstract."
   ]
  },
  {
   "cell_type": "code",
   "execution_count": 4,
   "id": "2e8b8e63",
   "metadata": {},
   "outputs": [],
   "source": [
    "# If subclass does not implement the abstract method, it is also abstract\n",
    "class AnotherChild(Parent):\n",
    "    def special_method(self):\n",
    "        print(\"This is a special method in AnotherChild.\")"
   ]
  },
  {
   "cell_type": "code",
   "execution_count": 5,
   "id": "2972094f",
   "metadata": {},
   "outputs": [
    {
     "ename": "TypeError",
     "evalue": "Can't instantiate abstract class AnotherChild without an implementation for abstract method 'some_method'",
     "output_type": "error",
     "traceback": [
      "\u001b[0;31m---------------------------------------------------------------------------\u001b[0m",
      "\u001b[0;31mTypeError\u001b[0m                                 Traceback (most recent call last)",
      "Cell \u001b[0;32mIn[5], line 1\u001b[0m\n\u001b[0;32m----> 1\u001b[0m ac \u001b[38;5;241m=\u001b[39m \u001b[43mAnotherChild\u001b[49m\u001b[43m(\u001b[49m\u001b[43m)\u001b[49m \u001b[38;5;66;03m# Error\u001b[39;00m\n",
      "\u001b[0;31mTypeError\u001b[0m: Can't instantiate abstract class AnotherChild without an implementation for abstract method 'some_method'"
     ]
    }
   ],
   "source": [
    "ac = AnotherChild() # Error"
   ]
  }
 ],
 "metadata": {
  "kernelspec": {
   "display_name": "Python 3",
   "language": "python",
   "name": "python3"
  },
  "language_info": {
   "codemirror_mode": {
    "name": "ipython",
    "version": 3
   },
   "file_extension": ".py",
   "mimetype": "text/x-python",
   "name": "python",
   "nbconvert_exporter": "python",
   "pygments_lexer": "ipython3",
   "version": "3.13.2"
  }
 },
 "nbformat": 4,
 "nbformat_minor": 5
}
